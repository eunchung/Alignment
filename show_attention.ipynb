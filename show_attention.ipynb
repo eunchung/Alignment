{
 "cells": [
  {
   "cell_type": "code",
   "execution_count": 1,
   "metadata": {
    "collapsed": true
   },
   "outputs": [],
   "source": [
    "%matplotlib inline"
   ]
  },
  {
   "cell_type": "code",
   "execution_count": 2,
   "metadata": {
    "collapsed": true
   },
   "outputs": [],
   "source": [
    "import torch \n",
    "import torch.nn as nn\n",
    "import torch.nn.functional as F\n",
    "\n",
    "from torch.utils.data import Dataset, DataLoader\n",
    "from torch.autograd import Variable\n",
    "\n",
    "import sys\n",
    "import numpy\n",
    "import random\n",
    "\n",
    "from utils import *\n",
    "from models import *\n",
    "\n",
    "import matplotlib.pyplot as plt\n",
    "import matplotlib.ticker as ticker\n",
    "import numpy as np"
   ]
  },
  {
   "cell_type": "code",
   "execution_count": 25,
   "metadata": {
    "collapsed": false
   },
   "outputs": [
    {
     "name": "stdout",
     "output_type": "stream",
     "text": [
      "2804\n"
     ]
    }
   ],
   "source": [
    "# Hyper Parameters\n",
    "max_sequence_length = 50\n",
    "max_vocabulary_size = 25000\n",
    "embedding_size = 300 \n",
    "hidden_size = 256\n",
    "num_layers = 1\n",
    "batch_size = 50\n",
    "num_epochs = 50\n",
    "learning_rate = 0.001\n",
    "dropout_rate = 0\n",
    "teacher_forcing_ratio = 0.5\n",
    "\n",
    "#train_data_path = 'WD_0.10_aug_train_textbook.txt'\n",
    "train_data_path = 'train_textbook_no_aug.txt'\n",
    "valid_data_path = 'valid_textbook.txt'\n",
    "test_data_path = 'inner_test.txt'\n",
    "directory_name = 'att_tutorial_test'\n",
    "encoder_name = 'ENC'\n",
    "decoder_name = 'AttDEC'\n",
    "\n",
    "word_to_ix, ix_to_word, vocab_size = make_or_load_dict(train_data_path, character=False)\n",
    "#word_to_ix, ix_to_word, vocab_size = make_or_load_dict(train_data_path, character=True)\n",
    "num_classes = vocab_size"
   ]
  },
  {
   "cell_type": "code",
   "execution_count": 26,
   "metadata": {
    "collapsed": false,
    "scrolled": true
   },
   "outputs": [
    {
     "name": "stdout",
     "output_type": "stream",
     "text": [
      "EncoderRNN(\n",
      "  (dropout): Dropout(p=0)\n",
      "  (word_embedding): Embedding(2804, 300)\n",
      "  (lstm): LSTM(300, 256, batch_first=True, bidirectional=True)\n",
      "  (fc): Linear(in_features=512, out_features=2)\n",
      ")\n",
      "AttnDecoderRNN(\n",
      "  (dropout): Dropout(p=0)\n",
      "  (W_A): Linear(in_features=812, out_features=50)\n",
      "  (word_embedding): Embedding(2804, 300)\n",
      "  (W_C): Linear(in_features=812, out_features=512)\n",
      "  (lstm): LSTM(512, 512, batch_first=True)\n",
      "  (fc): Linear(in_features=512, out_features=2804)\n",
      ")\n"
     ]
    }
   ],
   "source": [
    "encoder = EncoderRNN(vocab_size, embedding_size, hidden_size, num_layers, 2, dropout_rate)\n",
    "if decoder_name == 'AttDEC':\n",
    "    decoder = AttnDecoderRNN(vocab_size, embedding_size, hidden_size, num_layers, num_classes, dropout_rate, max_sequence_length)\n",
    "else:\n",
    "    decoder = DecoderRNN(vocab_size, embedding_size, hidden_size, num_layers, num_classes, dropout_rate)\n",
    "\n",
    "encoder = encoder.cuda()\n",
    "decoder = decoder.cuda()\n",
    "print(encoder)\n",
    "print(decoder)"
   ]
  },
  {
   "cell_type": "code",
   "execution_count": 16,
   "metadata": {
    "collapsed": false,
    "scrolled": true
   },
   "outputs": [],
   "source": [
    "# BiLSTM load 되는지 테스트\n",
    "model = BiLSTM(vocab_size, embedding_size, hidden_size, num_layers, 2, dropout_rate)\n",
    "model.load_state_dict(torch.load('./models/'+directory_name+'/%s_hid%d_D%0.2f_tfr%0.1f_best_valid_accuracy.pkl' % (encoder_name, hidden_size, dropout_rate, teacher_forcing_ratio)))\n"
   ]
  },
  {
   "cell_type": "code",
   "execution_count": 31,
   "metadata": {
    "collapsed": false,
    "scrolled": true
   },
   "outputs": [],
   "source": [
    "encoder.load_state_dict(torch.load('./models/'+directory_name+'/%s_hid%d_D%0.2f_tfr%0.1f_best_valid_accuracy.pkl' % (encoder_name, hidden_size, dropout_rate, teacher_forcing_ratio)))\n",
    "decoder.load_state_dict(torch.load('./models/'+directory_name+'/%s_hid%d_D%0.2f_tfr%0.1f_best_valid_accuracy.pkl' % (decoder_name, hidden_size, dropout_rate, teacher_forcing_ratio)))\n",
    "#encoder.load_state_dict(torch.load('./models/'+directory_name+'/%s_hid%d_D%0.2f_tfr%0.1f.pkl' % (encoder_name, hidden_size, dropout_rate, teacher_forcing_ratio)))\n",
    "#decoder.load_state_dict(torch.load('./models/'+directory_name+'/%s_hid%d_D%0.2f_tfr%0.1f.pkl' % (decoder_name, hidden_size, dropout_rate, teacher_forcing_ratio)))"
   ]
  },
  {
   "cell_type": "code",
   "execution_count": 17,
   "metadata": {
    "collapsed": false
   },
   "outputs": [],
   "source": [
    "def evaluate(encoder, decoder, input_variable):\n",
    "    encoder_outputs, encoder_hidden = encoder(input_variable, train=False)\n",
    "    \n",
    "    SOS_token = 0\n",
    "    decoder_input = Variable(torch.LongTensor([[SOS_token]]))\n",
    "    decoder_input = decoder_input.cuda()\n",
    "    decoder_hidden = encoder_hidden\n",
    "    decoder_hidden = decoder.initHidden(1, encoder_hidden)\n",
    "\n",
    "    decoded_words = []\n",
    "    decoder_attentions = torch.zeros(max_sequence_length, max_sequence_length)\n",
    "\n",
    "    stop_at_next_endofsentence = 0\n",
    "    if decoder_name == 'AttDEC':\n",
    "        for di in range(max_sequence_length):\n",
    "            decoder_output, decoder_hidden, decoder_attention = decoder(decoder_input, decoder_hidden, encoder_outputs, train = False)\n",
    "            decoder_attentions[di] = decoder_attention.view(-1, max_sequence_length).data\n",
    "\n",
    "            # Choose top word from output\n",
    "            topv, topi = decoder_output.data.topk(1)\n",
    "            ni = topi[0][0]\n",
    "            decoded_words.append(ni)\n",
    "            if ni ==1: break\n",
    "\n",
    "            # Next input is chosen word\n",
    "            decoder_input = Variable(torch.LongTensor([[ni]])).cuda()\n",
    "    else:\n",
    "        for _ in range(max_sequence_length):\n",
    "            decoder_output, decoder_hidden = decoder(decoder_input, decoder_hidden, train = False)\n",
    "\n",
    "            # Choose top word from output\n",
    "            topv, topi = decoder_output.data.topk(1)\n",
    "            ni = topi[0][0]\n",
    "            decoded_words.append(ni)\n",
    "            if ni ==1: \n",
    "                if decoder_name == 'AE' and stop_at_next_endofsentence !=1:\n",
    "                    stop_at_next_endofsentence = 1\n",
    "                elif decoder_name == 'AE' and stop_at_next_endofsentence == 1:\n",
    "                    break\n",
    "                else:\n",
    "                    break\n",
    "\n",
    "            # Next input is chosen word\n",
    "            decoder_input = Variable(torch.LongTensor([[ni]])).cuda()\n",
    "        \n",
    "    if decoder_name == 'AttDEC':\n",
    "        return decoded_words, decoder_attentions[:di + 1]\n",
    "    else:\n",
    "        return decoded_words"
   ]
  },
  {
   "cell_type": "code",
   "execution_count": 32,
   "metadata": {
    "collapsed": false
   },
   "outputs": [
    {
     "data": {
      "text/plain": [
       "<matplotlib.image.AxesImage at 0x1b289aed438>"
      ]
     },
     "execution_count": 32,
     "metadata": {},
     "output_type": "execute_result"
    },
    {
     "data": {
      "image/png": "[encoded data removed]",
      "text/plain": [
       "<matplotlib.figure.Figure at 0x1b289b62240>"
      ]
     },
     "metadata": {},
     "output_type": "display_data"
    }
   ],
   "source": [
    "sentence = '¡ quítate de la puerta ! endofsentence'\n",
    "sentence = sentence.split()\n",
    "sentence_tensor = prepare_sequence(sentence, word_to_ix)\n",
    "sentence = Variable(sentence_tensor.view(1, -1)).cuda()\n",
    "\n",
    "output_words, attentions = evaluate(\n",
    "    encoder, decoder, sentence)\n",
    "#plt.matshow(attentions.numpy())\n",
    "plt.matshow(attentions.numpy()[:, :20])"
   ]
  },
  {
   "cell_type": "code",
   "execution_count": 33,
   "metadata": {
    "collapsed": false
   },
   "outputs": [
    {
     "name": "stdout",
     "output_type": "stream",
     "text": [
      "input = ¡ quítate de la puerta ! endofsentence\n",
      "output = ¡ qué , ! , , , . unk unk unk unk unk unk unk unk unk unk unk unk unk unk unk unk unk unk unk unk unk unk unk unk unk unk unk unk unk unk unk unk unk unk unk unk unk unk unk unk unk unk\n"
     ]
    },
    {
     "data": {
      "image/png": "[encoded data removed]",
      "text/plain": [
       "<matplotlib.figure.Figure at 0x1b289b09a90>"
      ]
     },
     "metadata": {},
     "output_type": "display_data"
    },
    {
     "name": "stdout",
     "output_type": "stream",
     "text": [
      "input = pero , ¿ no estabas pensando en buscar un trabajo ? endofsentence\n",
      "output = no , no , no . . . unk . endofsentence\n"
     ]
    },
    {
     "data": {
      "image/png": "[encoded data removed]",
      "text/plain": [
       "<matplotlib.figure.Figure at 0x1b293478e10>"
      ]
     },
     "metadata": {},
     "output_type": "display_data"
    },
    {
     "name": "stdout",
     "output_type": "stream",
     "text": [
      "input = ¿ puedo dar el documento a la secretaria ? endofsentence\n",
      "output = no , no . . endofsentence\n"
     ]
    },
    {
     "data": {
      "image/png": "[encoded data removed]",
      "text/plain": [
       "<matplotlib.figure.Figure at 0x1b2949d1860>"
      ]
     },
     "metadata": {},
     "output_type": "display_data"
    },
    {
     "name": "stdout",
     "output_type": "stream",
     "text": [
      "input = mucho gusto , quique . endofsentence\n",
      "output = ¿ qué , ! , , , . unk unk unk unk unk unk unk unk unk unk unk unk unk unk unk unk unk unk unk unk unk unk unk unk unk unk unk unk unk unk unk unk unk unk unk unk unk unk unk unk unk unk\n"
     ]
    },
    {
     "data": {
      "image/png": "[encoded data removed]",
      "text/plain": [
       "<matplotlib.figure.Figure at 0x1b294ed96a0>"
      ]
     },
     "metadata": {},
     "output_type": "display_data"
    },
    {
     "name": "stdout",
     "output_type": "stream",
     "text": [
      "input = ¿ a qué hora salió el tren ayer ? endofsentence\n",
      "output = no , no . . endofsentence\n"
     ]
    },
    {
     "data": {
      "image/png": "[encoded data removed]",
      "text/plain": [
       "<matplotlib.figure.Figure at 0x1b2b693e7b8>"
      ]
     },
     "metadata": {},
     "output_type": "display_data"
    }
   ],
   "source": [
    "def showAttention(input_sentence, output_words, attentions):\n",
    "    # Set up figure with colorbar\n",
    "    fig = plt.figure()\n",
    "    ax = fig.add_subplot(111)\n",
    "    #cax = ax.matshow(attentions.numpy(), cmap='bone')\n",
    "    cax = ax.matshow(attentions.numpy()[:, :15], cmap='bone')\n",
    "    fig.colorbar(cax)\n",
    "\n",
    "    # Set up axes\n",
    "    ax.set_xticklabels([''] + input_sentence.split(' '), rotation=90)\n",
    "    ax.set_yticklabels([''] + output_words)\n",
    "\n",
    "    # Show label at every tick\n",
    "    ax.xaxis.set_major_locator(ticker.MultipleLocator(1))\n",
    "    ax.yaxis.set_major_locator(ticker.MultipleLocator(1))\n",
    "\n",
    "    plt.show()\n",
    "\n",
    "\n",
    "def evaluateAndShowAttention(input_sentence):\n",
    "    output_words, attentions = evaluate(\n",
    "        encoder, decoder, sentence_to_input(input_sentence))\n",
    "    print('input =', input_sentence)\n",
    "    output_words = [ix_to_word[word_idx] for word_idx in output_words]\n",
    "    print('output =', ' '.join(output_words))\n",
    "    showAttention(input_sentence, output_words, attentions)\n",
    "\n",
    "\n",
    "def sentence_to_input(sentence):\n",
    "    sentence = sentence.split()\n",
    "    sentence_tensor = prepare_sequence(sentence, word_to_ix)\n",
    "    sentence = Variable(sentence_tensor.view(1, -1)).cuda()\n",
    "    return sentence\n",
    "\n",
    "\n",
    "evaluateAndShowAttention(\"¡ quítate de la puerta ! endofsentence\")\n",
    "\n",
    "evaluateAndShowAttention(\"pero , ¿ no estabas pensando en buscar un trabajo ? endofsentence\")\n",
    "\n",
    "evaluateAndShowAttention(\"¿ puedo dar el documento a la secretaria ? endofsentence\")\n",
    "\n",
    "evaluateAndShowAttention(\"mucho gusto , quique . endofsentence\")\n",
    "\n",
    "evaluateAndShowAttention(\"¿ a qué hora salió el tren ayer ? endofsentence\")"
   ]
  },
  {
   "cell_type": "code",
   "execution_count": null,
   "metadata": {
    "collapsed": true
   },
   "outputs": [],
   "source": []
  }
 ],
 "metadata": {
  "anaconda-cloud": {},
  "kernelspec": {
   "display_name": "Python [default]",
   "language": "python",
   "name": "python3"
  },
  "language_info": {
   "codemirror_mode": {
    "name": "ipython",
    "version": 3
   },
   "file_extension": ".py",
   "mimetype": "text/x-python",
   "name": "python",
   "nbconvert_exporter": "python",
   "pygments_lexer": "ipython3",
   "version": "3.5.4"
  }
 },
 "nbformat": 4,
 "nbformat_minor": 1
}
